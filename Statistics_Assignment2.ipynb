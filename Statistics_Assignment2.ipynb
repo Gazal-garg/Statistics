{
 "cells": [
  {
   "cell_type": "markdown",
   "metadata": {
    "colab_type": "text",
    "id": "DQGYoUkMNcQl"
   },
   "source": [
    "Data set:\n",
    "https://drive.google.com/open?id=1oPpVV8A_bROfReZCQP2AfgR3zIL_WeiA\n",
    "\n",
    "(From Kaggle)-- https://www.kaggle.com/gilsousa/habermans-survival-data-set\n",
    "\n",
    "Description:-\n",
    "https://drive.google.com/open?id=1ee_Ux01UTqZOGQG4GP_FDDhUKWXj1-PF"
   ]
  },
  {
   "cell_type": "markdown",
   "metadata": {
    "colab_type": "text",
    "id": "rMstrNZJNcQs"
   },
   "source": [
    "Attribute Information:\n",
    "   1. Age of patient at time of operation (numerical)\n",
    "   2. Patient's year of operation (year numerical)\n",
    "   3. Number of positive axillary nodes detected (numerical)\n",
    "   4. Survival status (class attribute)\n",
    "         1 = the patient survived 5 years or longer\n",
    "         2 = the patient died within 5 year"
   ]
  },
  {
   "cell_type": "markdown",
   "metadata": {
    "colab_type": "text",
    "id": "rQODJSt4NcQv"
   },
   "source": [
    "### Analyse the above linked dataset as like iris data."
   ]
  },
  {
   "cell_type": "code",
   "execution_count": 0,
   "metadata": {
    "colab": {},
    "colab_type": "code",
    "id": "C6gbCbaGNcQy"
   },
   "outputs": [],
   "source": []
  },
  {
   "cell_type": "markdown",
   "metadata": {
    "colab_type": "text",
    "id": "sJd0sL7rNcQ8"
   },
   "source": [
    "Q1-- Plot Histogram for all fearutes of the data set and write comments on which feature is best for predicting survival status.\n",
    "\n",
    "(Hint: Use same process as did in iris data set.)"
   ]
  },
  {
   "cell_type": "code",
   "execution_count": 104,
   "metadata": {
    "colab": {},
    "colab_type": "code",
    "id": "5inYcw-KNcQ_"
   },
   "outputs": [
    {
     "data": {
      "text/html": [
       "<div>\n",
       "<style scoped>\n",
       "    .dataframe tbody tr th:only-of-type {\n",
       "        vertical-align: middle;\n",
       "    }\n",
       "\n",
       "    .dataframe tbody tr th {\n",
       "        vertical-align: top;\n",
       "    }\n",
       "\n",
       "    .dataframe thead th {\n",
       "        text-align: right;\n",
       "    }\n",
       "</style>\n",
       "<table border=\"1\" class=\"dataframe\">\n",
       "  <thead>\n",
       "    <tr style=\"text-align: right;\">\n",
       "      <th></th>\n",
       "      <th>age</th>\n",
       "      <th>year</th>\n",
       "      <th>nodes</th>\n",
       "      <th>survive</th>\n",
       "    </tr>\n",
       "  </thead>\n",
       "  <tbody>\n",
       "    <tr>\n",
       "      <td>0</td>\n",
       "      <td>30</td>\n",
       "      <td>64</td>\n",
       "      <td>1</td>\n",
       "      <td>1</td>\n",
       "    </tr>\n",
       "    <tr>\n",
       "      <td>1</td>\n",
       "      <td>30</td>\n",
       "      <td>62</td>\n",
       "      <td>3</td>\n",
       "      <td>1</td>\n",
       "    </tr>\n",
       "    <tr>\n",
       "      <td>2</td>\n",
       "      <td>30</td>\n",
       "      <td>65</td>\n",
       "      <td>0</td>\n",
       "      <td>1</td>\n",
       "    </tr>\n",
       "    <tr>\n",
       "      <td>3</td>\n",
       "      <td>31</td>\n",
       "      <td>59</td>\n",
       "      <td>2</td>\n",
       "      <td>1</td>\n",
       "    </tr>\n",
       "    <tr>\n",
       "      <td>4</td>\n",
       "      <td>31</td>\n",
       "      <td>65</td>\n",
       "      <td>4</td>\n",
       "      <td>1</td>\n",
       "    </tr>\n",
       "    <tr>\n",
       "      <td>...</td>\n",
       "      <td>...</td>\n",
       "      <td>...</td>\n",
       "      <td>...</td>\n",
       "      <td>...</td>\n",
       "    </tr>\n",
       "    <tr>\n",
       "      <td>301</td>\n",
       "      <td>75</td>\n",
       "      <td>62</td>\n",
       "      <td>1</td>\n",
       "      <td>1</td>\n",
       "    </tr>\n",
       "    <tr>\n",
       "      <td>302</td>\n",
       "      <td>76</td>\n",
       "      <td>67</td>\n",
       "      <td>0</td>\n",
       "      <td>1</td>\n",
       "    </tr>\n",
       "    <tr>\n",
       "      <td>303</td>\n",
       "      <td>77</td>\n",
       "      <td>65</td>\n",
       "      <td>3</td>\n",
       "      <td>1</td>\n",
       "    </tr>\n",
       "    <tr>\n",
       "      <td>304</td>\n",
       "      <td>78</td>\n",
       "      <td>65</td>\n",
       "      <td>1</td>\n",
       "      <td>2</td>\n",
       "    </tr>\n",
       "    <tr>\n",
       "      <td>305</td>\n",
       "      <td>83</td>\n",
       "      <td>58</td>\n",
       "      <td>2</td>\n",
       "      <td>2</td>\n",
       "    </tr>\n",
       "  </tbody>\n",
       "</table>\n",
       "<p>306 rows × 4 columns</p>\n",
       "</div>"
      ],
      "text/plain": [
       "     age  year  nodes  survive\n",
       "0     30    64      1        1\n",
       "1     30    62      3        1\n",
       "2     30    65      0        1\n",
       "3     31    59      2        1\n",
       "4     31    65      4        1\n",
       "..   ...   ...    ...      ...\n",
       "301   75    62      1        1\n",
       "302   76    67      0        1\n",
       "303   77    65      3        1\n",
       "304   78    65      1        2\n",
       "305   83    58      2        2\n",
       "\n",
       "[306 rows x 4 columns]"
      ]
     },
     "execution_count": 104,
     "metadata": {},
     "output_type": "execute_result"
    }
   ],
   "source": [
    "#Write your code here for ploting--\n",
    "import numpy as np\n",
    "import pandas as pd\n",
    "import matplotlib.pyplot as plt\n",
    "import seaborn as sns\n",
    "ds=pd.read_csv(r\"C:\\Users\\Gazal\\Downloads\\haberman.csv\")\n",
    "ds\n",
    "\n"
   ]
  },
  {
   "cell_type": "code",
   "execution_count": 8,
   "metadata": {
    "colab": {},
    "colab_type": "code",
    "id": "ajJrE5E_NcRQ"
   },
   "outputs": [
    {
     "data": {
      "text/plain": [
       "1    225\n",
       "2     81\n",
       "Name: survive, dtype: int64"
      ]
     },
     "execution_count": 8,
     "metadata": {},
     "output_type": "execute_result"
    }
   ],
   "source": [
    "ds['survive'].value_counts()\n"
   ]
  },
  {
   "cell_type": "code",
   "execution_count": 105,
   "metadata": {},
   "outputs": [
    {
     "data": {
      "text/plain": [
       "<matplotlib.axes._subplots.AxesSubplot at 0x240e87f0bc8>"
      ]
     },
     "execution_count": 105,
     "metadata": {},
     "output_type": "execute_result"
    },
    {
     "data": {
      "image/png": "[encoded data removed]",
      "text/plain": [
       "<Figure size 432x288 with 1 Axes>"
      ]
     },
     "metadata": {
      "needs_background": "light"
     },
     "output_type": "display_data"
    }
   ],
   "source": [
    "survive_1=ds[ds['survive']==1]\n",
    "survive_2=ds[ds['survive']==2]\n",
    "sns.distplot(survive_1['age'])\n",
    "sns.distplot(survive_2['age'])\n"
   ]
  },
  {
   "cell_type": "code",
   "execution_count": 18,
   "metadata": {},
   "outputs": [
    {
     "data": {
      "text/plain": [
       "<matplotlib.axes._subplots.AxesSubplot at 0x240e661ed88>"
      ]
     },
     "execution_count": 18,
     "metadata": {},
     "output_type": "execute_result"
    },
    {
     "data": {
      "image/png": "[encoded data removed]",
      "text/plain": [
       "<Figure size 432x288 with 1 Axes>"
      ]
     },
     "metadata": {
      "needs_background": "light"
     },
     "output_type": "display_data"
    }
   ],
   "source": [
    "sns.distplot(survive_1['year'])\n",
    "sns.distplot(survive_2['year'])"
   ]
  },
  {
   "cell_type": "code",
   "execution_count": 14,
   "metadata": {},
   "outputs": [
    {
     "data": {
      "text/plain": [
       "<matplotlib.axes._subplots.AxesSubplot at 0x240e6320408>"
      ]
     },
     "execution_count": 14,
     "metadata": {},
     "output_type": "execute_result"
    },
    {
     "data": {
      "image/png": "[encoded data removed]",
      "text/plain": [
       "<Figure size 432x288 with 1 Axes>"
      ]
     },
     "metadata": {
      "needs_background": "light"
     },
     "output_type": "display_data"
    }
   ],
   "source": [
    "sns.distplot(survive_1['nodes'])\n",
    "sns.distplot(survive_2['nodes'])"
   ]
  },
  {
   "cell_type": "code",
   "execution_count": 154,
   "metadata": {
    "colab": {},
    "colab_type": "code",
    "id": "yObqnAjeNcRX"
   },
   "outputs": [
    {
     "name": "stdout",
     "output_type": "stream",
     "text": [
      "Median for survive_1 is:  0.0\n",
      "Median for survive_2 is:  4.0\n"
     ]
    },
    {
     "data": {
      "image/png": "[encoded data removed]",
      "text/plain": [
       "<Figure size 432x288 with 1 Axes>"
      ]
     },
     "metadata": {
      "needs_background": "light"
     },
     "output_type": "display_data"
    }
   ],
   "source": [
    "# Write your comments here-\n",
    "#NODE feature is best for predicting survival status.\n",
    "#As because we can see from the distplot shown above for the node feature is more predictable and less overlapped compared to the \n",
    "#age and year feature distplot.\n",
    "sns.boxplot(x='survive',y='nodes',data=ds)\n",
    "#in the box plot also we can see that the nodes coverd by survive_2 is far greater than survive_1\n",
    "a1=np.median(survive_1['nodes'])\n",
    "print(\"Median for survive_1 is: \",a1)\n",
    "a2=np.median(survive_2['nodes'])\n",
    "print(\"Median for survive_2 is: \",a2)\n",
    "#we see that the median also varries greately.\n",
    "\n"
   ]
  },
  {
   "cell_type": "code",
   "execution_count": 65,
   "metadata": {},
   "outputs": [
    {
     "name": "stdout",
     "output_type": "stream",
     "text": [
      "Freguency:  [188  18   5   6   4   1   2   0   0   1]\n",
      "range: [ 0.   4.6  9.2 13.8 18.4 23.  27.6 32.2 36.8 41.4 46. ]\n",
      "[0.83555556 0.08       0.02222222 0.02666667 0.01777778 0.00444444\n",
      " 0.00888889 0.         0.         0.00444444]\n",
      "[0.83555556 0.91555556 0.93777778 0.96444444 0.98222222 0.98666667\n",
      " 0.99555556 0.99555556 0.99555556 1.        ]\n"
     ]
    },
    {
     "data": {
      "text/plain": [
       "[<matplotlib.lines.Line2D at 0x240e8201208>]"
      ]
     },
     "execution_count": 65,
     "metadata": {},
     "output_type": "execute_result"
    },
    {
     "data": {
      "image/png": "[encoded data removed]",
      "text/plain": [
       "<Figure size 432x288 with 1 Axes>"
      ]
     },
     "metadata": {
      "needs_background": "light"
     },
     "output_type": "display_data"
    }
   ],
   "source": [
    "#just for practice\n",
    "#calculating pdf and cdf\n",
    "counts,bin_edges=np.histogram(survive_1['nodes'],bins=10)\n",
    "print(\"Freguency: \",counts)\n",
    "print(\"range:\",bin_edges)\n",
    "pdf=counts/sum(counts)\n",
    "print(pdf)\n",
    "cdf=np.cumsum(pdf)\n",
    "print(cdf)\n",
    "plt.plot(bin_edges[1:],pdf)\n",
    "plt.plot(bin_edges[1:],cdf)\n"
   ]
  },
  {
   "cell_type": "markdown",
   "metadata": {
    "colab_type": "text",
    "id": "WmOcUeOfNcR3"
   },
   "source": [
    "Q2-- On the ipl wala dataset create a function which will accept a batsman name and 1 interger value and returns the number of runs he has after those many matches\n",
    "\n",
    "E.g Input (V Kohli, 18)\n",
    "\n",
    "Output - 678(Runs scored by Virat Kohli after 18 matches"
   ]
  },
  {
   "cell_type": "code",
   "execution_count": 151,
   "metadata": {},
   "outputs": [
    {
     "name": "stdout",
     "output_type": "stream",
     "text": [
      "Total runs scored is: 401\n"
     ]
    }
   ],
   "source": [
    "dsr=pd.read_csv(r\"C:\\Users\\Gazal\\Downloads\\deliveries.csv\")\n",
    "def runs_sc(bman,x):\n",
    "    a=dsr[dsr['batsman']==bman]\n",
    "    new_a=a.groupby('match_id').sum()['batsman_runs'].reset_index()\n",
    "    new_a['Aftr_runs']=0\n",
    "    re=np.cumsum(new_a['batsman_runs'])\n",
    "    new_a['Aftr_runs']=re\n",
    "    print(\"Total runs scored is:\",new_a['Aftr_runs'][x-1])\n",
    "runs_sc('V Kohli',18)\n",
    "    \n",
    "\n",
    "\n",
    "    \n"
   ]
  },
  {
   "cell_type": "markdown",
   "metadata": {
    "colab_type": "text",
    "id": "dOIJMc7dU5Al"
   },
   "source": [
    "Q3: Write a function which will plot the match wise scores of two batsman in the form of a PDF, check this [image](https://drive.google.com/open?id=18y9DiuVvNZ3p5LIBv-eaDVxNtXrI7hp9)\n",
    "<img src=\"\"/>"
   ]
  },
  {
   "cell_type": "code",
   "execution_count": 102,
   "metadata": {
    "colab": {},
    "colab_type": "code",
    "id": "hGGkEKPyNcSS"
   },
   "outputs": [
    {
     "name": "stdout",
     "output_type": "stream",
     "text": [
      "Total runs scored is: 401\n",
      "Total runs scored is: 804\n"
     ]
    },
    {
     "data": {
      "image/png": "[encoded data removed]",
      "text/plain": [
       "<Figure size 432x288 with 1 Axes>"
      ]
     },
     "metadata": {
      "needs_background": "light"
     },
     "output_type": "display_data"
    }
   ],
   "source": [
    "dsr=pd.read_csv(r\"C:\\Users\\Gazal\\Downloads\\deliveries.csv\")\n",
    "def runs_sc(bman,x):\n",
    "    a=dsr[dsr['batsman']==bman]\n",
    "    new_a=a.groupby('match_id').sum()['batsman_runs'].reset_index()\n",
    "    new_a['Aftr_runs']=0\n",
    "    re=np.cumsum(new_a['batsman_runs'])\n",
    "    new_a['Aftr_runs']=re\n",
    "    print(\"Total runs scored is:\",new_a['Aftr_runs'][x-1])\n",
    "    sns.distplot(new_a['batsman_runs'])\n",
    "runs_sc('V Kohli',18)\n",
    "runs_sc('DA Warner',20)\n",
    "\n"
   ]
  },
  {
   "cell_type": "markdown",
   "metadata": {
    "colab_type": "text",
    "id": "yIg8OdPMNcSY"
   },
   "source": [
    "Q3-- Write a function which will take a list as input and in return plot PDF and CDF curve as like in IRIS one.\n",
    "\n",
    "     (you have to write your on logic for np.cumsum()--(cummulative sum- function) )"
   ]
  },
  {
   "cell_type": "code",
   "execution_count": 0,
   "metadata": {
    "colab": {},
    "colab_type": "code",
    "id": "gBMCjQ-LNcSb"
   },
   "outputs": [],
   "source": [
    "# Write your code here--"
   ]
  },
  {
   "cell_type": "code",
   "execution_count": 150,
   "metadata": {
    "colab": {},
    "colab_type": "code",
    "id": "Eoq8Xz33NcSq"
   },
   "outputs": [
    {
     "name": "stdout",
     "output_type": "stream",
     "text": [
      "Frequency: [3 3 3 3]\n",
      "Range: [ 1.    3.75  6.5   9.25 12.  ]\n",
      "pdf is: [0.25 0.25 0.25 0.25]\n",
      "cdf is: [0.25, 0.5, 0.75, 1.0]\n"
     ]
    },
    {
     "data": {
      "image/png": "[encoded data removed]",
      "text/plain": [
       "<Figure size 432x288 with 1 Axes>"
      ]
     },
     "metadata": {
      "needs_background": "light"
     },
     "output_type": "display_data"
    }
   ],
   "source": [
    "def pdf_cdf(mylist):\n",
    "    counts,bin_edges=np.histogram(mylist,bins=4)\n",
    "    print(\"Frequency:\",counts)\n",
    "    print(\"Range:\",bin_edges)\n",
    "    pdf=counts/sum(counts)\n",
    "    print(\"pdf is:\",pdf)\n",
    "    new_a=[]\n",
    "    b=0\n",
    "    for i in pdf:\n",
    "        b=b+i\n",
    "        new_a.append(b)\n",
    "    print(\"cdf is:\",new_a)\n",
    "    plt.plot(bin_edges[1:],pdf)\n",
    "    plt.plot(bin_edges[1:],new_a)\n",
    "a=[1,2,3,4,5,6,7,8,9,10,11,12]\n",
    "pdf_cdf(a)\n",
    "\n",
    "\n",
    "\n"
   ]
  },
  {
   "cell_type": "code",
   "execution_count": null,
   "metadata": {
    "colab": {},
    "colab_type": "code",
    "id": "1TT_MfP1NcSx"
   },
   "outputs": [],
   "source": [
    "dsr.head(10)"
   ]
  },
  {
   "cell_type": "code",
   "execution_count": 0,
   "metadata": {
    "colab": {},
    "colab_type": "code",
    "id": "zfjiysMaNcS3"
   },
   "outputs": [],
   "source": []
  },
  {
   "cell_type": "code",
   "execution_count": 0,
   "metadata": {
    "colab": {},
    "colab_type": "code",
    "id": "l4qGachiNcS-"
   },
   "outputs": [],
   "source": []
  }
 ],
 "metadata": {
  "colab": {
   "name": "Statistics_Assignment(PDF&CDF).ipynb",
   "provenance": []
  },
  "kernelspec": {
   "display_name": "Python 3",
   "language": "python",
   "name": "python3"
  },
  "language_info": {
   "codemirror_mode": {
    "name": "ipython",
    "version": 3
   },
   "file_extension": ".py",
   "mimetype": "text/x-python",
   "name": "python",
   "nbconvert_exporter": "python",
   "pygments_lexer": "ipython3",
   "version": "3.7.4"
  }
 },
 "nbformat": 4,
 "nbformat_minor": 1
}
