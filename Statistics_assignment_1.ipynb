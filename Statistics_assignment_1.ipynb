{
 "cells": [
  {
   "cell_type": "code",
   "execution_count": 0,
   "metadata": {
    "colab": {},
    "colab_type": "code",
    "id": "fwKwbkuXZtoO"
   },
   "outputs": [],
   "source": [
    "# Write your code in jupyter notebook and upload it to github and share the link for submission"
   ]
  },
  {
   "cell_type": "markdown",
   "metadata": {
    "colab_type": "text",
    "id": "vre5sNOcZ42y"
   },
   "source": [
    "**Question 1.** \n",
    "\n",
    "You have to create a function that receives a list of numbers like [23,14,13,56,78,98,12] and returns it's Interquartile range(IQR)\n",
    "\n",
    "Note: You have to code the logic from scratch\n"
   ]
  },
  {
   "cell_type": "code",
   "execution_count": 5,
   "metadata": {},
   "outputs": [
    {
     "name": "stdout",
     "output_type": "stream",
     "text": [
      "Interquartile range for the given data is:  65\n"
     ]
    }
   ],
   "source": [
    "def cal_IQR(num):\n",
    "    num.sort()\n",
    "    no_ele=len(num)\n",
    "    q1=num[int(no_ele/4)]\n",
    "    q3=num[int((3*no_ele)/4)]\n",
    "    IQR=q3-q1\n",
    "    return(IQR)\n",
    "result=cal_IQR([23,14,13,56,78,98,12])\n",
    "print(\"Interquartile range for the given data is: \",result)"
   ]
  },
  {
   "cell_type": "markdown",
   "metadata": {
    "colab_type": "text",
    "id": "zhGgTofubucf"
   },
   "source": [
    "**Question 2:**\n",
    "\n",
    " Plot a histogram for total team scores for all IPL games.\n",
    "\n",
    "Note: Per match 2 teams will play hence total number scores would be = no. of matches * 2"
   ]
  },
  {
   "cell_type": "code",
   "execution_count": 13,
   "metadata": {},
   "outputs": [
    {
     "data": {
      "image/png": "[encoded data removed]",
      "text/plain": [
       "<Figure size 432x288 with 1 Axes>"
      ]
     },
     "metadata": {
      "needs_background": "light"
     },
     "output_type": "display_data"
    }
   ],
   "source": [
    "import pandas as pd\n",
    "import matplotlib.pyplot as plt\n",
    "\n",
    "d1=pd.read_csv(r\"C:\\Users\\Gazal\\Downloads\\deliveries.csv\")\n",
    "d1.head()\n",
    "a=d1.groupby([\"match_id\",\"inning\"])[\"total_runs\"].sum()\n",
    "plt.hist(a,bins=range(min(a),max(a)+1))\n",
    "plt.show()\n"
   ]
  },
  {
   "cell_type": "markdown",
   "metadata": {
    "colab_type": "text",
    "id": "LraNGEw4cCSI"
   },
   "source": [
    "**Question 3.**\n",
    "\n",
    " Find the skewness of bowler economy data where the bowler has bowled a minimum of 300 balls.\n",
    "\n",
    "Note : if you don't know about economy read this https://en.wikipedia.org/wiki/Economy_rate_(cricket)"
   ]
  },
  {
   "cell_type": "code",
   "execution_count": 22,
   "metadata": {},
   "outputs": [
    {
     "name": "stdout",
     "output_type": "stream",
     "text": [
      "The Skewness is:  2.3868278831927476\n"
     ]
    },
    {
     "data": {
      "image/png": "[encoded data removed]",
      "text/plain": [
       "<Figure size 432x288 with 1 Axes>"
      ]
     },
     "metadata": {
      "needs_background": "light"
     },
     "output_type": "display_data"
    }
   ],
   "source": [
    "import pandas as pd\n",
    "import matplotlib.pyplot as plt\n",
    "import seaborn as sns\n",
    "\n",
    "d1=pd.read_csv(r\"C:\\Users\\Gazal\\Downloads\\deliveries.csv\")\n",
    "a=d1.groupby(\"bowler\")\n",
    "b=a[\"ball\"].count()\n",
    "c=b>300\n",
    "d=d1[d1[\"bowler\"].isin(b[c].index.tolist())]\n",
    "tot=a[[\"noball_runs\",\"wide_runs\",\"batsman_runs\"]].sum()\n",
    "tots=tot[\"wide_runs\"]+tot[\"noball_runs\"]+tot[\"batsman_runs\"]\n",
    "over_tot=b/6\n",
    "rate=tots/over_tot\n",
    "skewn=rate.skew()\n",
    "sns.kdeplot(rate)\n",
    "print(\"The Skewness is: \",skewn)\n",
    "\n",
    "\n",
    "\n",
    "\n"
   ]
  },
  {
   "cell_type": "code",
   "execution_count": null,
   "metadata": {},
   "outputs": [],
   "source": []
  },
  {
   "cell_type": "raw",
   "metadata": {
    "colab_type": "text",
    "id": "rPh3aUBSdvjW"
   },
   "source": [
    "**Question 4:**\n",
    "\n",
    "Give three examples of negatively skewed data and 3 examples of positively skewed data"
   ]
  },
  {
   "cell_type": "code",
   "execution_count": 0,
   "metadata": {
    "colab": {},
    "colab_type": "code",
    "id": "nggmjDQDaMKs"
   },
   "outputs": [],
   "source": [
    "#1\n",
    "\n",
    "Example of Negatively skewed data are:\n",
    "    1) Length distribution of fish in fisheries.\n",
    "    2) Flood frequency curve in Australian Rainfall\n",
    "    3) Age at death of Australian Males.\n",
    "Example of Positively skewed data are:\n",
    "    1)Income in USA\n",
    "    2)Wealth of people in the country\n",
    "    3)Wind speed distribution.\n",
    "    \n"
   ]
  }
 ],
 "metadata": {
  "colab": {
   "name": "Statistics-assignment-1.ipynb",
   "provenance": []
  },
  "kernelspec": {
   "display_name": "Python 3",
   "language": "python",
   "name": "python3"
  },
  "language_info": {
   "codemirror_mode": {
    "name": "ipython",
    "version": 3
   },
   "file_extension": ".py",
   "mimetype": "text/x-python",
   "name": "python",
   "nbconvert_exporter": "python",
   "pygments_lexer": "ipython3",
   "version": "3.7.4"
  }
 },
 "nbformat": 4,
 "nbformat_minor": 1
}
